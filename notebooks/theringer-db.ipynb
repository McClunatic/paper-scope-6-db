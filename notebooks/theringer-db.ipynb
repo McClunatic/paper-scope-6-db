{
 "cells": [
  {
   "cell_type": "code",
   "execution_count": 9,
   "metadata": {},
   "outputs": [],
   "source": [
    "import datetime\r\n",
    "import getpass\r\n",
    "import json\r\n",
    "import urllib\r\n",
    "\r\n",
    "import sqlalchemy as sa\r\n",
    "\r\n",
    "from sqlalchemy.engine import create_engine\r\n",
    "from sqlalchemy.orm import declarative_base, Session"
   ]
  },
  {
   "cell_type": "code",
   "execution_count": 2,
   "metadata": {},
   "outputs": [],
   "source": [
    "your_password_here = getpass.getpass()\r\n",
    "conn_str = (\r\n",
    "    'Driver={ODBC Driver 17 for SQL Server};'\r\n",
    "    'Server=tcp:paper-scope-dbserver.database.windows.net,1433;'\r\n",
    "    'Database=paper-scope-db;'\r\n",
    "    'Uid=brian;'\r\n",
    "    f'Pwd={your_password_here};'\r\n",
    "    'Encrypt=yes;'\r\n",
    "    'TrustServerCertificate=no;'\r\n",
    "    'Connection Timeout=60;'\r\n",
    ")"
   ]
  },
  {
   "cell_type": "code",
   "execution_count": 30,
   "metadata": {},
   "outputs": [],
   "source": [
    "params = urllib.parse.quote_plus(conn_str)\r\n",
    "engine = create_engine(f'mssql+pyodbc:///?odbc_connect={params}', echo=False)"
   ]
  },
  {
   "cell_type": "code",
   "execution_count": 42,
   "metadata": {},
   "outputs": [],
   "source": [
    "Base = declarative_base()"
   ]
  },
  {
   "cell_type": "code",
   "execution_count": 43,
   "metadata": {},
   "outputs": [],
   "source": [
    "class Article(Base):\r\n",
    "    __tablename__ = 'article'\r\n",
    "\r\n",
    "    id = sa.Column(sa.Integer, primary_key=True)\r\n",
    "    href = sa.Column(sa.String(256))\r\n",
    "    title = sa.Column(sa.String(256))\r\n",
    "    description = sa.Column(sa.String(1024))\r\n",
    "    image = sa.Column(sa.String(512))\r\n",
    "    tags = sa.Column(sa.String(512))\r\n",
    "    groups = sa.Column(sa.String(512))\r\n",
    "    author = sa.Column(sa.String(64))\r\n",
    "    date = sa.Column(sa.DateTime)\r\n",
    "    content = sa.Column(sa.String(None))\r\n",
    "\r\n",
    "    def __repr__(self):\r\n",
    "        return (\r\n",
    "            f'Article(id={self.id!r}, href={self.href!r}, title={self.title!r}'\r\n",
    "            f', description={self.description[:30]!r}, image={self.image!r}'\r\n",
    "            f', tags={self.tags!r}, groups={self.groups!r}, author={self.author!r}'\r\n",
    "            f', date={self.date!r}, content={self.content[:30]!r}'\r\n",
    "        )"
   ]
  },
  {
   "cell_type": "code",
   "execution_count": 44,
   "metadata": {},
   "outputs": [],
   "source": [
    "Base.metadata.drop_all(engine)\r\n",
    "Base.metadata.create_all(engine)"
   ]
  },
  {
   "cell_type": "code",
   "execution_count": 45,
   "metadata": {},
   "outputs": [],
   "source": [
    "with Session(engine) as session:\r\n",
    "    with session.begin():\r\n",
    "        for article in json.load(open('../current.json')):\r\n",
    "            article['groups'] = json.dumps(article['groups'])\r\n",
    "            article['date'] = datetime.datetime.fromisoformat(article['date'])\r\n",
    "            session.add(Article(**article))"
   ]
  }
 ],
 "metadata": {
  "kernelspec": {
   "display_name": "Python 3.8.8 64-bit ('mssql': conda)",
   "name": "python388jvsc74a57bd0db717b56278c40168a88de76c8e9703c22f5756a5abcfca579f0d01ca6df8301"
  },
  "language_info": {
   "codemirror_mode": {
    "name": "ipython",
    "version": 3
   },
   "file_extension": ".py",
   "mimetype": "text/x-python",
   "name": "python",
   "nbconvert_exporter": "python",
   "pygments_lexer": "ipython3",
   "version": "3.8.8"
  },
  "metadata": {
   "interpreter": {
    "hash": "63fd5069d213b44bf678585dea6b12cceca9941eaf7f819626cde1f2670de90d"
   }
  },
  "orig_nbformat": 2
 },
 "nbformat": 4,
 "nbformat_minor": 2
}