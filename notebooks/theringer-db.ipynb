{
 "cells": [
  {
   "cell_type": "code",
   "execution_count": 1,
   "metadata": {},
   "outputs": [],
   "source": [
    "import getpass\r\n",
    "import urllib\r\n",
    "\r\n",
    "import sqlalchemy as sa"
   ]
  },
  {
   "cell_type": "code",
   "execution_count": 2,
   "metadata": {},
   "outputs": [],
   "source": [
    "your_password_here = getpass.getpass()\r\n",
    "conn_str = (\r\n",
    "    'Driver={ODBC Driver 13 for SQL Server};'\r\n",
    "    'Server=tcp:paper-scope-dbserver.database.windows.net,1433;'\r\n",
    "    'Database=paper-scope-db;'\r\n",
    "    'Uid=brian;'\r\n",
    "    f'Pwd={your_password_here};'\r\n",
    "    'Encrypt=yes;'\r\n",
    "    'TrustServerCertificate=no;'\r\n",
    "    'Connection Timeout=30;'\r\n",
    ")"
   ]
  },
  {
   "cell_type": "code",
   "execution_count": 3,
   "metadata": {},
   "outputs": [],
   "source": [
    "params = urllib.parse.quote_plus(conn_str)\r\n",
    "engine = sa.create_engine(f'mssql+pyodbc:///?odbc_connect={params}')"
   ]
  }
 ],
 "metadata": {
  "kernelspec": {
   "display_name": "Python 3.8.8 64-bit ('mssql': conda)",
   "name": "python388jvsc74a57bd0db717b56278c40168a88de76c8e9703c22f5756a5abcfca579f0d01ca6df8301"
  },
  "language_info": {
   "codemirror_mode": {
    "name": "ipython",
    "version": 3
   },
   "file_extension": ".py",
   "mimetype": "text/x-python",
   "name": "python",
   "nbconvert_exporter": "python",
   "pygments_lexer": "ipython3",
   "version": "3.8.8"
  },
  "metadata": {
   "interpreter": {
    "hash": "63fd5069d213b44bf678585dea6b12cceca9941eaf7f819626cde1f2670de90d"
   }
  },
  "orig_nbformat": 2
 },
 "nbformat": 4,
 "nbformat_minor": 2
}